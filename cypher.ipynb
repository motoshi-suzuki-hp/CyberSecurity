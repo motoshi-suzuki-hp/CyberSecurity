{
 "cells": [
  {
   "cell_type": "markdown",
   "metadata": {},
   "source": [
    "## CBCモード"
   ]
  },
  {
   "cell_type": "code",
   "execution_count": 4,
   "metadata": {},
   "outputs": [
    {
     "name": "stdout",
     "output_type": "stream",
     "text": [
      "Ciphertext: b'\\xfb\\xc0l\\xfb\\x0e\\x06\\xca`0\\x14hU@?\\xc3\\xd0\\xf5\\xbb\\x06^\\x01\\x88\\xc7*T\\xa4\\x11\\xcd\\xe4\\x9cf0K}\\x0bNf\\xd9T\\xa8\\xdc\\x8b\\xfeV\\xb33h\\x12\\x13\\x11\\xadp\\xa2)\\xd5\\xe7\\xd6\\xa5\\x1d\\x8f\\xaaq\\xa2v'\n",
      "Decrypted Plaintext: b'Hello, this is a test message for CBC mode implementation.'\n"
     ]
    }
   ],
   "source": [
    "from Crypto.Cipher import AES\n",
    "from Crypto.Util.Padding import pad, unpad\n",
    "import os\n",
    "\n",
    "def xor_bytes(a, b):\n",
    "    return bytes(i ^ j for i, j in zip(a, b))\n",
    "\n",
    "def encrypt_cbc(plaintext, key, iv):\n",
    "    cipher = AES.new(key, AES.MODE_ECB)\n",
    "    block_size = AES.block_size\n",
    "    padded_plaintext = pad(plaintext, block_size)\n",
    "\n",
    "    ciphertext = b''\n",
    "    previous_block = iv\n",
    "\n",
    "    for i in range(0, len(padded_plaintext), block_size):\n",
    "        block = padded_plaintext[i:i+block_size]\n",
    "        block = xor_bytes(block, previous_block)\n",
    "        encrypted_block = cipher.encrypt(block)\n",
    "        ciphertext += encrypted_block\n",
    "        previous_block = encrypted_block\n",
    "\n",
    "    return ciphertext\n",
    "\n",
    "def decrypt_cbc(ciphertext, key, iv):\n",
    "    cipher = AES.new(key, AES.MODE_ECB)\n",
    "    block_size = AES.block_size\n",
    "    \n",
    "    plaintext = b''\n",
    "    previous_block = iv\n",
    "\n",
    "    for i in range(0, len(ciphertext), block_size):\n",
    "        block = ciphertext[i:i+block_size]\n",
    "        decrypted_block = cipher.decrypt(block)\n",
    "        decrypted_block = xor_bytes(decrypted_block, previous_block)\n",
    "        plaintext += decrypted_block\n",
    "        previous_block = block\n",
    "\n",
    "    return unpad(plaintext, block_size)\n",
    "\n",
    "key = os.urandom(16)\n",
    "iv = os.urandom(16)\n",
    "plaintext = b'Hello, this is a test message for CBC mode implementation.'\n",
    "\n",
    "ciphertext = encrypt_cbc(plaintext, key, iv)\n",
    "print(f'Ciphertext: {ciphertext}')\n",
    "\n",
    "decrypted_plaintext = decrypt_cbc(ciphertext, key, iv)\n",
    "print(f'Decrypted Plaintext: {decrypted_plaintext}')"
   ]
  },
  {
   "cell_type": "code",
   "execution_count": null,
   "metadata": {},
   "outputs": [],
   "source": []
  },
  {
   "cell_type": "markdown",
   "metadata": {},
   "source": [
    "## OFBモード"
   ]
  },
  {
   "cell_type": "code",
   "execution_count": 11,
   "metadata": {},
   "outputs": [
    {
     "name": "stdout",
     "output_type": "stream",
     "text": [
      "Ciphertext: b\"\\x07\\x15%\\xa1:M\\xb3\\xf7\\x87|9j\\xb4\\x8a\\xd9KK\\x9a\\xd5\\x96\\x86\\xd9\\xf3<\\x0c\\xd6\\xe9\\xb9\\x12\\xca\\xbba\\xadH\\xa5\\xdc\\x7f\\x0e\\x12\\xa2w\\x8f\\x1a\\x97\\xc7@\\nB\\xb2\\x9a\\xd8\\x0f\\xad\\xcbv8\\xfc\\xc1'j.W\\xda\\xa2\"\n",
      "Decrypted Plaintext: b'Hello, this is a test message for OFB mode implementation.'\n"
     ]
    }
   ],
   "source": [
    "from Crypto.Cipher import AES\n",
    "from Crypto.Util.Padding import pad, unpad\n",
    "import os\n",
    "\n",
    "def xor_bytes(a, b):\n",
    "    return bytes(i ^ j for i, j in zip(a, b))\n",
    "\n",
    "def encrypt_ofb(plaintext, key, iv):\n",
    "    cipher = AES.new(key, AES.MODE_ECB)\n",
    "    block_size = AES.block_size\n",
    "    \n",
    "    ciphertext = b''\n",
    "    feedback = iv\n",
    "    \n",
    "    for i in range(0, len(plaintext), block_size):\n",
    "        encrypted_feedback = cipher.encrypt(feedback)\n",
    "        block = plaintext[i:i + block_size]\n",
    "        block = pad(block, block_size)\n",
    "        encrypted_block = xor_bytes(block, encrypted_feedback)\n",
    "        ciphertext += encrypted_block\n",
    "        feedback = encrypted_feedback\n",
    "    \n",
    "    return ciphertext\n",
    "\n",
    "def decrypt_ofb(ciphertext, key, iv):\n",
    "    cipher = AES.new(key, AES.MODE_ECB)\n",
    "    block_size = AES.block_size\n",
    "    \n",
    "    plaintext = b''\n",
    "    feedback = iv\n",
    "    \n",
    "    for i in range(0, len(ciphertext), block_size):\n",
    "        encrypted_feedback = cipher.encrypt(feedback)\n",
    "        block = ciphertext[i:i + block_size]\n",
    "        decrypted_block = xor_bytes(block, encrypted_feedback)\n",
    "        plaintext += decrypted_block\n",
    "        feedback = encrypted_feedback\n",
    "    \n",
    "    return unpad(plaintext, block_size)\n",
    "\n",
    "# Example usage\n",
    "key = os.urandom(16)  # AES-128\n",
    "iv = os.urandom(16)   # Initialization Vector\n",
    "plaintext = b'Hello, this is a test message for OFB mode implementation.'\n",
    "\n",
    "ciphertext = encrypt_ofb(plaintext, key, iv)\n",
    "print(f'Ciphertext: {ciphertext}')\n",
    "\n",
    "decrypted_plaintext = decrypt_ofb(ciphertext, key, iv)\n",
    "print(f'Decrypted Plaintext: {decrypted_plaintext}')\n"
   ]
  },
  {
   "cell_type": "markdown",
   "metadata": {},
   "source": [
    "## CTRモード"
   ]
  },
  {
   "cell_type": "code",
   "execution_count": 13,
   "metadata": {},
   "outputs": [
    {
     "name": "stdout",
     "output_type": "stream",
     "text": [
      "Ciphertext: b\"'4\\xa3xO\\xf0\\xb3\\x9a\\xd3\\x8e\\xd8\\x07\\x01\\xf1\\x81\\x94\\xd6\\xf0\\xe6J\\xab\\xfa:\\xf9j\\x8d\\xe5\\xf7\\xc3\\x9c1_0\\x0c>.-\\x0e\\x1d\\xaa\\x94\\xf0\\xc2#9\\xcb\\xa4\\xcb\\xac\\xb4\\xe2i\\x19\\x08\\xae\\xf2\\xf5\\x8d\"\n",
      "Decrypted Plaintext: b'Hello, this is a test message for CTR mode implementation.'\n"
     ]
    }
   ],
   "source": [
    "from Crypto.Cipher import AES\n",
    "import os\n",
    "\n",
    "def xor_bytes(a, b):\n",
    "    return bytes(i ^ j for i, j in zip(a, b))\n",
    "\n",
    "def increment_counter(counter):\n",
    "    counter_int = int.from_bytes(counter, byteorder='big') + 1\n",
    "    return counter_int.to_bytes(len(counter), byteorder='big')\n",
    "\n",
    "def encrypt_ctr(plaintext, key, nonce):\n",
    "    cipher = AES.new(key, AES.MODE_ECB)\n",
    "    block_size = AES.block_size\n",
    "    ciphertext = b''\n",
    "    \n",
    "    counter = nonce\n",
    "    \n",
    "    for i in range(0, len(plaintext), block_size):\n",
    "        encrypted_counter = cipher.encrypt(counter)\n",
    "        block = plaintext[i:i + block_size]\n",
    "        block = xor_bytes(block, encrypted_counter)\n",
    "        ciphertext += block\n",
    "        counter = increment_counter(counter)\n",
    "    \n",
    "    return ciphertext\n",
    "\n",
    "def decrypt_ctr(ciphertext, key, nonce):\n",
    "    return encrypt_ctr(ciphertext, key, nonce)  # CTR mode decryption is the same as encryption\n",
    "\n",
    "# Example usage\n",
    "key = os.urandom(16)  # AES-128\n",
    "nonce = os.urandom(16)  # Nonce for CTR mode\n",
    "plaintext = b'Hello, this is a test message for CTR mode implementation.'\n",
    "\n",
    "ciphertext = encrypt_ctr(plaintext, key, nonce)\n",
    "print(f'Ciphertext: {ciphertext}')\n",
    "\n",
    "decrypted_plaintext = decrypt_ctr(ciphertext, key, nonce)\n",
    "print(f'Decrypted Plaintext: {decrypted_plaintext}')\n"
   ]
  },
  {
   "cell_type": "markdown",
   "metadata": {},
   "source": [
    "## DH鍵交換"
   ]
  },
  {
   "cell_type": "code",
   "execution_count": 15,
   "metadata": {},
   "outputs": [
    {
     "name": "stdout",
     "output_type": "stream",
     "text": [
      "共通の秘密鍵: 18\n"
     ]
    }
   ],
   "source": [
    "import random\n",
    "\n",
    "# 素数pと生成元gを選択\n",
    "p = 23\n",
    "g = 5\n",
    "\n",
    "# AliceとBobが秘密鍵を生成\n",
    "a = random.randint(1, p-1)\n",
    "b = random.randint(1, p-1)\n",
    "\n",
    "# 公開鍵を生成\n",
    "A = pow(g, a, p)\n",
    "B = pow(g, b, p)\n",
    "\n",
    "# 共有秘密鍵を生成\n",
    "shared_secret_A = pow(B, a, p)\n",
    "shared_secret_B = pow(A, b, p)\n",
    "\n",
    "assert shared_secret_A == shared_secret_B\n",
    "\n",
    "print(f\"共通の秘密鍵: {shared_secret_A}\")\n",
    "\n",
    "\n"
   ]
  },
  {
   "cell_type": "code",
   "execution_count": null,
   "metadata": {},
   "outputs": [],
   "source": []
  }
 ],
 "metadata": {
  "kernelspec": {
   "display_name": ".venv",
   "language": "python",
   "name": "python3"
  },
  "language_info": {
   "codemirror_mode": {
    "name": "ipython",
    "version": 3
   },
   "file_extension": ".py",
   "mimetype": "text/x-python",
   "name": "python",
   "nbconvert_exporter": "python",
   "pygments_lexer": "ipython3",
   "version": "3.11.6"
  }
 },
 "nbformat": 4,
 "nbformat_minor": 2
}
